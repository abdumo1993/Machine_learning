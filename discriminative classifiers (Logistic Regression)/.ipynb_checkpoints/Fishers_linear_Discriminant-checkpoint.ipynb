{
 "cells": [
  {
   "cell_type": "code",
   "execution_count": 1,
   "id": "63cd312e-c5ac-4abb-9c0f-e5f81a65d23d",
   "metadata": {},
   "outputs": [],
   "source": [
    "import numpy as np \n",
    "np.set_printoptions(suppress=True)\n",
    "import matplotlib.pyplot as plt\n",
    "import seaborn as sns\n",
    "from sklearn import datasets"
   ]
  },
  {
   "cell_type": "code",
   "execution_count": 2,
   "id": "5e37a882-a4fc-4226-bdb4-d065b2920dd2",
   "metadata": {},
   "outputs": [],
   "source": [
    "# import data\n",
    "cancer = datasets.load_breast_cancer()\n",
    "X = cancer['data']\n",
    "y = cancer['target']"
   ]
  },
  {
   "cell_type": "code",
   "execution_count": 14,
   "id": "2bc388f3-613d-468a-9489-33eb5e682197",
   "metadata": {},
   "outputs": [],
   "source": [
    "class FisherLinearDiscriminant:\n",
    "    \n",
    "    def fit(self, X, y):\n",
    "        ## Save stuff\n",
    "        self.X = X\n",
    "        self.y = y\n",
    "        self.N, self.D = self.X.shape\n",
    "        # μk=1Nk∑n∈Skxn\n",
    "        # Σw=∑n∈S1(xn−μ1)(xn−μ1)⊤+∑n∈S2(xn−μ2)(xn−μ2)⊤\n",
    "        # β^∝Σ−1w(μ2−μ1).\n",
    "\n",
    "        # find class mean\n",
    "        X0 = self.X[ y == 0]\n",
    "        X1 = self.X[ y == 1]\n",
    "        mu0 = X0.mean(0)\n",
    "        mu1 = X1.mean(0)\n",
    "\n",
    "        self.sigma_w = np.empty((self.D, self.D))\n",
    "        for x0 in X0:\n",
    "            x0_minus_mu0 = (x0 - mu0).reshape(-1,1)\n",
    "            self.sigma_w += x0_minus_mu0 @ x0_minus_mu0.T\n",
    "            \n",
    "        for x1 in X1:\n",
    "            x1_minus_mu1 = (x1 - mu1).reshape(-1,1)\n",
    "            self.sigma_w += x1_minus_mu1 @ x1_minus_mu1.T\n",
    "        self.beta = np.linalg.inv(self.sigma_w) @ (mu1 - mu0)\n",
    "        self.f = np.dot(X, self.beta)\n",
    "# class FisherLinearDiscriminant:\n",
    "    \n",
    "#     def fit(self, X, y):\n",
    "#         ## Save stuff\n",
    "#         self.X = X\n",
    "#         self.y = y\n",
    "#         self.N, self.D = self.X.shape\n",
    "        \n",
    "#         ## Calculate class means\n",
    "#         X0 = X[y == 0]\n",
    "#         X1 = X[y == 1]\n",
    "#         mu0 = X0.mean(0)\n",
    "#         mu1 = X1.mean(0)\n",
    "        \n",
    "#         ## Sigma_w\n",
    "#         Sigma_w = np.empty((self.D, self.D))\n",
    "#         for x0 in X0:\n",
    "#             x0_minus_mu0 = (x0 - mu0).reshape(-1, 1)\n",
    "#             Sigma_w += np.dot(x0_minus_mu0, x0_minus_mu0.T)\n",
    "#         for x1 in X1:\n",
    "#             x1_minus_mu1 = (x1 - mu1).reshape(-1, 1)\n",
    "#             Sigma_w += np.dot(x1_minus_mu1, x1_minus_mu1.T)            \n",
    "#         Sigma_w_inverse = np.linalg.inv(Sigma_w)\n",
    "        \n",
    "#         ## Beta\n",
    "#         self.beta = np.dot(Sigma_w_inverse, mu1 - mu0)\n",
    "#         self.f = np.dot(X, self.beta)"
   ]
  },
  {
   "cell_type": "code",
   "execution_count": 45,
   "id": "4cc0d5d4-1eb7-4dbb-9af0-781c47fab114",
   "metadata": {},
   "outputs": [
    {
     "data": {
      "text/plain": [
       "(212, 357)"
      ]
     },
     "execution_count": 45,
     "metadata": {},
     "output_type": "execute_result"
    }
   ],
   "source": [
    "model = FisherLinearDiscriminant()\n",
    "model.fit(X, y)\n",
    "len(model.f[model.y == 0]), len(model.f[model.y == 1])\n"
   ]
  },
  {
   "cell_type": "code",
   "execution_count": 16,
   "id": "129768ca-0336-4c08-ba63-92aef173626a",
   "metadata": {},
   "outputs": [
    {
     "name": "stderr",
     "output_type": "stream",
     "text": [
      "C:\\Users\\abdu\\AppData\\Local\\Temp\\ipykernel_15548\\42172487.py:2: UserWarning: \n",
      "\n",
      "`distplot` is a deprecated function and will be removed in seaborn v0.14.0.\n",
      "\n",
      "Please adapt your code to use either `displot` (a figure-level function with\n",
      "similar flexibility) or `histplot` (an axes-level function for histograms).\n",
      "\n",
      "For a guide to updating your code to use the new functions, please see\n",
      "https://gist.github.com/mwaskom/de44147ed2974457ad6372750bbe5751\n",
      "\n",
      "  sns.distplot(model.f[model.y == 0], bins = 25, kde = False,\n",
      "C:\\Users\\abdu\\AppData\\Local\\Temp\\ipykernel_15548\\42172487.py:4: UserWarning: \n",
      "\n",
      "`distplot` is a deprecated function and will be removed in seaborn v0.14.0.\n",
      "\n",
      "Please adapt your code to use either `displot` (a figure-level function with\n",
      "similar flexibility) or `histplot` (an axes-level function for histograms).\n",
      "\n",
      "For a guide to updating your code to use the new functions, please see\n",
      "https://gist.github.com/mwaskom/de44147ed2974457ad6372750bbe5751\n",
      "\n",
      "  sns.distplot(model.f[model.y == 1], bins = 25, kde = False,\n"
     ]
    },
    {
     "data": {
      "image/png": "[encoded data removed]",
      "text/plain": [
       "<Figure size 700x500 with 1 Axes>"
      ]
     },
     "metadata": {},
     "output_type": "display_data"
    }
   ],
   "source": [
    "fig, ax = plt.subplots(figsize = (7,5))\n",
    "sns.distplot(model.f[model.y == 0], bins = 25, kde = False, \n",
    "             color = 'cornflowerblue', label = 'Class 0')\n",
    "sns.distplot(model.f[model.y == 1], bins = 25, kde = False, \n",
    "             color = 'darkblue', label = 'Class 1')\n",
    "ax.set_xlabel(r\"$f\\hspace{.25}(x_n)$\", size = 14)\n",
    "ax.set_title(r\"Histogram of $f\\hspace{.25}(x_n)$ by Class\", size = 16)\n",
    "ax.legend()\n",
    "sns.despine()"
   ]
  }
 ],
 "metadata": {
  "kernelspec": {
   "display_name": "Python 3 (ipykernel)",
   "language": "python",
   "name": "python3"
  },
  "language_info": {
   "codemirror_mode": {
    "name": "ipython",
    "version": 3
   },
   "file_extension": ".py",
   "mimetype": "text/x-python",
   "name": "python",
   "nbconvert_exporter": "python",
   "pygments_lexer": "ipython3",
   "version": "3.11.0"
  }
 },
 "nbformat": 4,
 "nbformat_minor": 5
}
