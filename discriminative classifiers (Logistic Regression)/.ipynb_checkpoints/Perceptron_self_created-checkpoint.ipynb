{
 "cells": [
  {
   "cell_type": "code",
   "execution_count": 1,
   "id": "6479ecc8-a757-44fe-9b0b-6a5bf29ac772",
   "metadata": {},
   "outputs": [],
   "source": [
    "import numpy as np\n",
    "from sklearn import datasets\n"
   ]
  },
  {
   "cell_type": "code",
   "execution_count": 2,
   "id": "d08008af-cb34-459f-bbea-c10f428839d0",
   "metadata": {},
   "outputs": [],
   "source": [
    "cancer = datasets.load_breast_cancer()\n",
    "X = cancer['data']\n",
    "y = cancer['target']"
   ]
  },
  {
   "cell_type": "code",
   "execution_count": 3,
   "id": "1b17123a-1d62-4f9f-b6c8-2300cee267c3",
   "metadata": {},
   "outputs": [],
   "source": [
    "\n",
    "def sign(a):\n",
    "    return (-1)**(a < 0)\n",
    "\n",
    "def to_binary(y):\n",
    "        return y > 0 \n",
    "\n",
    "def standard_scaler(X):\n",
    "    mean = X.mean(0)\n",
    "    sd = X.std(0)\n",
    "    return (X - mean)/sd\n",
    "    "
   ]
  },
  {
   "cell_type": "code",
   "execution_count": 18,
   "id": "ed52e558-927a-4f5a-bd83-fbe889f4f047",
   "metadata": {},
   "outputs": [],
   "source": [
    "class Perceptron:\n",
    "    def fit(self, X, y,  n_iter = 10**3, lr = 0.001, add_intercept = True, standardize = True):\n",
    "        if standardize:\n",
    "            X = standard_scaler(X)\n",
    "        if add_intercept:\n",
    "            ones = np.ones(len(X)).reshape(-1, 1)\n",
    "            X = np.concatenate((ones, X), axis = 1)\n",
    "        self.X = X\n",
    "        self.y = y\n",
    "        self.N, self.D = X.shape\n",
    "        self.n_iter = n_iter\n",
    "        self.lr = lr\n",
    "        self.converged = False\n",
    "        # generate random weight\n",
    "        self.weight = np.random.randn(self.D)\n",
    "        # loop and approximate\n",
    "        for i in range(int(self.n_iter)):\n",
    "            y_hat =  to_binary(sign(self.X @ self.weight))\n",
    "\n",
    "            # check convergence\n",
    "            if np.all(y_hat == sign(self.y)):\n",
    "                self.convered = True\n",
    "                self.converged_at_iter = i\n",
    "                break\n",
    "            \n",
    "            for n in range(self.N):\n",
    "                yhat_n = sign(self.weight @ self.X[n])\n",
    "                if (self.y[n] * yhat_n) == -1:\n",
    "                    self.weight += self.lr * self.y[n] * self.X[n]\n",
    "        self.yhat = to_binary(sign(self.X @ self.weight))\n"
   ]
  },
  {
   "cell_type": "code",
   "execution_count": null,
   "id": "2614c52e-d764-4d0a-a40f-9e7509c6d1c5",
   "metadata": {},
   "outputs": [],
   "source": [
    "# # from the site\n",
    "# class Perceptron:\n",
    "\n",
    "#     def fit(self, X, y, n_iter = 10**3, lr = 0.001, add_intercept = True, standardize = True):\n",
    "        \n",
    "#         # Add Info #\n",
    "#         if standardize:\n",
    "#             X = standard_scaler(X)\n",
    "#         if add_intercept:\n",
    "#             ones = np.ones(len(X)).reshape(-1, 1)\n",
    "#             X = np.concatenate((ones, X), axis = 1)\n",
    "            \n",
    "#         self.X = X\n",
    "#         self.N, self.D = self.X.shape\n",
    "#         self.y = y\n",
    "#         self.n_iter = n_iter\n",
    "#         self.lr = lr\n",
    "#         self.converged = False\n",
    "        \n",
    "#         # Fit #\n",
    "#         beta = np.random.randn(self.D)/5\n",
    "#         for i in range(int(self.n_iter)):\n",
    "            \n",
    "#             # Form predictions\n",
    "#             yhat = to_binary(sign(np.dot(self.X, beta)))\n",
    "            \n",
    "#             # Check for convergence\n",
    "#             if np.all(yhat == sign(self.y)):\n",
    "#                 self.converged = True\n",
    "#                 self.iterations_until_convergence = i\n",
    "#                 break\n",
    "                \n",
    "#             # Otherwise, adjust\n",
    "#             for n in range(self.N):\n",
    "#                 yhat_n = sign(np.dot(beta, self.X[n]))\n",
    "#                 if (self.y[n]*yhat_n == -1):\n",
    "#                     beta += self.lr * self.y[n]*self.X[n]\n",
    "\n",
    "#         # Return Values #\n",
    "#         self.beta = beta\n",
    "#         self.yhat = to_binary(sign(np.dot(self.X, self.beta)))\n",
    "                    "
   ]
  },
  {
   "cell_type": "code",
   "execution_count": 20,
   "id": "94d35d0f-5c7d-465f-b591-bd1bbbdcc4e5",
   "metadata": {},
   "outputs": [],
   "source": [
    "perceptron = Perceptron()\n",
    "perceptron.fit(X, y, n_iter = 1e4, lr = 0.001)"
   ]
  },
  {
   "cell_type": "code",
   "execution_count": 21,
   "id": "5e09f861-002f-4113-9212-0064da514e1f",
   "metadata": {},
   "outputs": [
    {
     "name": "stdout",
     "output_type": "stream",
     "text": [
      "Not converged\n"
     ]
    }
   ],
   "source": [
    "if perceptron.converged:\n",
    "    print(f\"Converged after {perceptron.iterations_until_convergence} iterations\")\n",
    "else:\n",
    "    print(\"Not converged\")\n",
    "    "
   ]
  },
  {
   "cell_type": "code",
   "execution_count": 22,
   "id": "47eed81f-cd49-440d-9246-4455ffa1f424",
   "metadata": {},
   "outputs": [
    {
     "data": {
      "text/plain": [
       "0.8629173989455184"
      ]
     },
     "execution_count": 22,
     "metadata": {},
     "output_type": "execute_result"
    }
   ],
   "source": [
    "np.mean(perceptron.yhat == perceptron.y)"
   ]
  }
 ],
 "metadata": {
  "kernelspec": {
   "display_name": "Python 3 (ipykernel)",
   "language": "python",
   "name": "python3"
  },
  "language_info": {
   "codemirror_mode": {
    "name": "ipython",
    "version": 3
   },
   "file_extension": ".py",
   "mimetype": "text/x-python",
   "name": "python",
   "nbconvert_exporter": "python",
   "pygments_lexer": "ipython3",
   "version": "3.11.0"
  }
 },
 "nbformat": 4,
 "nbformat_minor": 5
}
