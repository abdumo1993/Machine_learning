{
 "cells": [
  {
   "cell_type": "code",
   "execution_count": 15,
   "id": "108763bd-93ad-433c-b456-6ed7afbd67c9",
   "metadata": {},
   "outputs": [],
   "source": [
    "import numpy as np \n",
    "np.set_printoptions(suppress=True)\n",
    "import matplotlib.pyplot as plt\n",
    "import seaborn as sns\n",
    "from sklearn import datasets"
   ]
  },
  {
   "cell_type": "code",
   "execution_count": 16,
   "id": "4e91d640-db98-459d-a436-2ab1d930f468",
   "metadata": {},
   "outputs": [],
   "source": [
    "# import data\n",
    "cancer = datasets.load_breast_cancer()\n",
    "X = cancer['data']\n",
    "y = cancer['target']"
   ]
  },
  {
   "cell_type": "code",
   "execution_count": 17,
   "id": "570eb675-b2f8-49c4-af18-92295e06de42",
   "metadata": {},
   "outputs": [],
   "source": [
    "def logistic(z):\n",
    "    return (1 + np.exp(-z))**(-1)\n",
    "\n",
    "def standard_scaler(X):\n",
    "    mean = X.mean(0)\n",
    "    sd = X.std(0)\n",
    "    return (X - mean)/sd "
   ]
  },
  {
   "cell_type": "code",
   "execution_count": 18,
   "id": "cfd4833c-72d7-44e0-b992-8ad02ef7b29d",
   "metadata": {},
   "outputs": [],
   "source": [
    "class Binary_Logistic_Regression:\n",
    "    def fit(self, X, y, n_iter, lr, standardize = True, has_intercept = False):\n",
    "        if standardize:\n",
    "            X = standard_scaler(X)\n",
    "        if not has_intercept:\n",
    "            ones = np.ones(len(y)).reshape(len(y), 1)\n",
    "            X = np.concatenate((ones, X), axis = 1)\n",
    "        self.X = X\n",
    "        self.y = y\n",
    "        self.N, self.D = self.X.shape\n",
    "        self.lr = lr\n",
    "        self.n_iter = n_iter\n",
    "\n",
    "        beta = np.random.randn(self.D)\n",
    "\n",
    "        # gradiant decent\n",
    "        for i in range(self.n_iter):\n",
    "            \n",
    "            p = logistic(self.X @ beta) # pn sayed to be sigmoid(B.T @ X)\n",
    "            # -X.T @ (y - p)\n",
    "            grad = - self.X.T @ (self.y - p)\n",
    "            beta -= self.lr * grad\n",
    "        self.beta = beta \n",
    "        self.p = logistic(self.X @ self.beta)\n",
    "        self.yhat = self.p.round()\n",
    "            \n",
    "        "
   ]
  },
  {
   "cell_type": "code",
   "execution_count": 19,
   "id": "b7598f7d-381a-4546-a540-acdeb59dcee4",
   "metadata": {},
   "outputs": [
    {
     "name": "stdout",
     "output_type": "stream",
     "text": [
      "In-sample accuracy: 0.9894551845342706\n"
     ]
    }
   ],
   "source": [
    "binary_model = Binary_Logistic_Regression()\n",
    "binary_model.fit(X, y, n_iter = 10**4, lr = 0.0001)\n",
    "print('In-sample accuracy: '  + str(np.mean(binary_model.yhat == binary_model.y)))\n"
   ]
  },
  {
   "cell_type": "code",
   "execution_count": 20,
   "id": "8c821bee-c072-480f-aa4c-d8460f1e51f7",
   "metadata": {},
   "outputs": [
    {
     "data": {
      "text/plain": [
       "array([[ 1.09706398, -2.07333501,  1.26993369, ...,  2.29607613,\n",
       "         2.75062224,  1.93701461],\n",
       "       [ 1.82982061, -0.35363241,  1.68595471, ...,  1.0870843 ,\n",
       "        -0.24388967,  0.28118999],\n",
       "       [ 1.57988811,  0.45618695,  1.56650313, ...,  1.95500035,\n",
       "         1.152255  ,  0.20139121],\n",
       "       ...,\n",
       "       [ 0.70228425,  2.0455738 ,  0.67267578, ...,  0.41406869,\n",
       "        -1.10454895, -0.31840916],\n",
       "       [ 1.83834103,  2.33645719,  1.98252415, ...,  2.28998549,\n",
       "         1.91908301,  2.21963528],\n",
       "       [-1.80840125,  1.22179204, -1.81438851, ..., -1.74506282,\n",
       "        -0.04813821, -0.75120669]])"
      ]
     },
     "execution_count": 20,
     "metadata": {},
     "output_type": "execute_result"
    }
   ],
   "source": [
    "standard_scaler(X)"
   ]
  },
  {
   "cell_type": "code",
   "execution_count": 21,
   "id": "b8cd1566-3df9-47d9-80cd-2d8fa90be462",
   "metadata": {},
   "outputs": [
    {
     "name": "stderr",
     "output_type": "stream",
     "text": [
      "C:\\Users\\abdu\\AppData\\Local\\Temp\\ipykernel_14112\\2449912665.py:2: UserWarning: \n",
      "\n",
      "`distplot` is a deprecated function and will be removed in seaborn v0.14.0.\n",
      "\n",
      "Please adapt your code to use either `displot` (a figure-level function with\n",
      "similar flexibility) or `histplot` (an axes-level function for histograms).\n",
      "\n",
      "For a guide to updating your code to use the new functions, please see\n",
      "https://gist.github.com/mwaskom/de44147ed2974457ad6372750bbe5751\n",
      "\n",
      "  sns.distplot(binary_model.p[binary_model.yhat == 0], kde = False, bins = 8, label = 'Class 0', color = 'cornflowerblue')\n",
      "C:\\Users\\abdu\\AppData\\Local\\Temp\\ipykernel_14112\\2449912665.py:3: UserWarning: \n",
      "\n",
      "`distplot` is a deprecated function and will be removed in seaborn v0.14.0.\n",
      "\n",
      "Please adapt your code to use either `displot` (a figure-level function with\n",
      "similar flexibility) or `histplot` (an axes-level function for histograms).\n",
      "\n",
      "For a guide to updating your code to use the new functions, please see\n",
      "https://gist.github.com/mwaskom/de44147ed2974457ad6372750bbe5751\n",
      "\n",
      "  sns.distplot(binary_model.p[binary_model.yhat == 1], kde = False, bins = 8, label = 'Class 1', color = 'darkblue')\n"
     ]
    },
    {
     "data": {
      "image/png": "[encoded data removed]",
      "text/plain": [
       "<Figure size 640x480 with 1 Axes>"
      ]
     },
     "metadata": {},
     "output_type": "display_data"
    }
   ],
   "source": [
    "fig, ax = plt.subplots()\n",
    "sns.distplot(binary_model.p[binary_model.yhat == 0], kde = False, bins = 8, label = 'Class 0', color = 'cornflowerblue')\n",
    "sns.distplot(binary_model.p[binary_model.yhat == 1], kde = False, bins = 8, label = 'Class 1', color = 'darkblue')\n",
    "ax.legend(loc = 9, bbox_to_anchor = (0,0,1.59,.9))\n",
    "ax.set_xlabel(r'Estimated $P(Y_n = 1)$', size = 14)\n",
    "ax.set_title(r'Estimated $P(Y_n = 1)$ by True Class', size = 16)\n",
    "sns.despine()"
   ]
  },
  {
   "cell_type": "code",
   "execution_count": 22,
   "id": "dcb638a2-5a05-4f95-8ed4-607d20409f4f",
   "metadata": {},
   "outputs": [
    {
     "data": {
      "text/plain": [
       "(178,)"
      ]
     },
     "execution_count": 22,
     "metadata": {},
     "output_type": "execute_result"
    }
   ],
   "source": [
    "# import data\n",
    "wine = datasets.load_wine()\n",
    "X = wine['data']\n",
    "y = wine['target']\n",
    "y.shape"
   ]
  },
  {
   "cell_type": "code",
   "execution_count": 23,
   "id": "de6ff2b1-7719-4f50-9293-025aa6e5e979",
   "metadata": {},
   "outputs": [
    {
     "name": "stdout",
     "output_type": "stream",
     "text": [
      "Softmax for Z:\n",
      " [[0.5  0.5 ]\n",
      " [0.27 0.73]]\n",
      "I matrix of [0,0,1,1,2]:\n",
      " [[1 0 0]\n",
      " [1 0 0]\n",
      " [0 1 0]\n",
      " [0 1 0]\n",
      " [0 0 1]]\n",
      "\n"
     ]
    }
   ],
   "source": [
    "def softmax(z):\n",
    "    return np.exp(z)/(np.exp(z).sum())\n",
    "\n",
    "def softmax_byrow(Z):\n",
    "    return (np.exp(Z)/(np.exp(Z).sum(1)[:,None]))\n",
    "\n",
    "def make_I_matrix(y):\n",
    "    I = np.zeros(shape = (len(y), len(np.unique(y))), dtype = int)\n",
    "    for j, target in enumerate(np.unique(y)):\n",
    "        I[:,j] = (y == target)\n",
    "    return I\n",
    "\n",
    "\n",
    "Z_test = np.array([[1, 1],\n",
    "              [0,1]])\n",
    "print('Softmax for Z:\\n', softmax_byrow(Z_test).round(2))\n",
    "\n",
    "y_test = np.array([0,0,1,1,2])\n",
    "print('I matrix of [0,0,1,1,2]:\\n', make_I_matrix(y_test), end = '\\n\\n')\n"
   ]
  },
  {
   "cell_type": "code",
   "execution_count": 39,
   "id": "2cd4b9c9-6b30-4720-9b69-8d99e12637f8",
   "metadata": {},
   "outputs": [],
   "source": [
    "# Z^=XB^∈RN×K,\n",
    "# P^=softmax(Z^)\n",
    "class Multiclass_logistic_regression:\n",
    "    def fit(self, X, y, n_iter, lr, standardize = True, has_intercept = False):\n",
    "        if standardize:\n",
    "            X = standard_scaler(X)\n",
    "        if not has_intercept:\n",
    "            ones = np.ones(len(y)).reshape(len(y), 1)\n",
    "            X = np.concatenate((ones, X), axis = 1)\n",
    "        self.X = X\n",
    "        self.y = y\n",
    "        self.n_iter = n_iter\n",
    "        self.lr = lr\n",
    "        self.K = len(np.unique(self.y))\n",
    "        self.I = make_I_matrix(self.y)\n",
    "        self.N, self.D = self.X.shape\n",
    "        \n",
    "        B = np.random.randn(self.D*self.K).reshape((self.D, self.K))\n",
    "\n",
    "\n",
    "        # gradiant descent\n",
    "        for i in range(self.n_iter):\n",
    "            z = self.X @ B\n",
    "            p = softmax_byrow(z)\n",
    "            # X⊤(I−P).\n",
    "            grad = self.X.T @ (self.I - p)\n",
    "            B += self.lr * grad\n",
    "\n",
    "        self.B = B\n",
    "        self.P = softmax_byrow(self.X @ self.B)\n",
    "        self.yhat = self.P.argmax(1)\n",
    "        \n",
    "\n",
    "        "
   ]
  },
  {
   "cell_type": "code",
   "execution_count": 40,
   "id": "d05f8718-a9e1-4112-ad44-74cfbf1a5215",
   "metadata": {},
   "outputs": [
    {
     "name": "stdout",
     "output_type": "stream",
     "text": [
      "In-sample accuracy: 1.0\n"
     ]
    }
   ],
   "source": [
    "multiclass_model = Multiclass_logistic_regression()\n",
    "multiclass_model.fit(X, y, 10**4, 0.0001)\n",
    "print('In-sample accuracy: '  + str(np.mean(multiclass_model.yhat == y)))\n",
    "# multiclass_model.B.shape, multiclass_model.X.shape, multiclass_model.D, multiclass_model.N\n"
   ]
  },
  {
   "cell_type": "code",
   "execution_count": 12,
   "id": "c578d14a-b790-41ea-b4ea-c8101a0ae716",
   "metadata": {},
   "outputs": [
    {
     "name": "stderr",
     "output_type": "stream",
     "text": [
      "C:\\Users\\abdu\\AppData\\Local\\Temp\\ipykernel_14112\\87073320.py:3: UserWarning: \n",
      "\n",
      "`distplot` is a deprecated function and will be removed in seaborn v0.14.0.\n",
      "\n",
      "Please adapt your code to use either `displot` (a figure-level function with\n",
      "similar flexibility) or `histplot` (an axes-level function for histograms).\n",
      "\n",
      "For a guide to updating your code to use the new functions, please see\n",
      "https://gist.github.com/mwaskom/de44147ed2974457ad6372750bbe5751\n",
      "\n",
      "  sns.distplot(multiclass_model.P[multiclass_model.y == y, i],\n"
     ]
    },
    {
     "data": {
      "image/png": "[encoded data removed]",
      "text/plain": [
       "<Figure size 1700x500 with 3 Axes>"
      ]
     },
     "metadata": {},
     "output_type": "display_data"
    }
   ],
   "source": [
    "fig, ax = plt.subplots(1, 3, figsize = (17, 5))\n",
    "for i, y in enumerate(np.unique(y)):\n",
    "    sns.distplot(multiclass_model.P[multiclass_model.y == y, i],\n",
    "                 hist_kws=dict(edgecolor=\"darkblue\"), \n",
    "                 color = 'cornflowerblue',\n",
    "                 bins = 15, \n",
    "                 kde = False,\n",
    "                 ax = ax[i]);\n",
    "    ax[i].set_xlabel(xlabel = fr'$P(y = {y})$', size = 14)\n",
    "    ax[i].set_title('Histogram for Observations in Class '+ str(y), size = 16)\n",
    "sns.despine()"
   ]
  }
 ],
 "metadata": {
  "kernelspec": {
   "display_name": "Python 3 (ipykernel)",
   "language": "python",
   "name": "python3"
  },
  "language_info": {
   "codemirror_mode": {
    "name": "ipython",
    "version": 3
   },
   "file_extension": ".py",
   "mimetype": "text/x-python",
   "name": "python",
   "nbconvert_exporter": "python",
   "pygments_lexer": "ipython3",
   "version": "3.11.0"
  }
 },
 "nbformat": 4,
 "nbformat_minor": 5
}
