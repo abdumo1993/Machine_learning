{
 "cells": [
  {
   "cell_type": "code",
   "execution_count": 9,
   "id": "97dfa875-a32a-4886-90cc-70872aab6b85",
   "metadata": {},
   "outputs": [],
   "source": [
    "import numpy as np\n",
    "from sklearn import datasets\n"
   ]
  },
  {
   "cell_type": "code",
   "execution_count": 10,
   "id": "2ecec356-7a0a-4bf3-9fde-f048992fc8b6",
   "metadata": {},
   "outputs": [],
   "source": [
    "cancer = datasets.load_breast_cancer()\n",
    "X = cancer['data']\n",
    "y = cancer['target']\n"
   ]
  },
  {
   "cell_type": "code",
   "execution_count": 11,
   "id": "bb0f079f-cef3-469b-9dc2-1306c5d29e7a",
   "metadata": {},
   "outputs": [],
   "source": [
    "\n",
    "def sign(a):\n",
    "    return (-1)**(a < 0)\n",
    "\n",
    "def to_binary(y):\n",
    "    return y > 0\n",
    "def standard_scaler(X):\n",
    "    mean = X.mean(0)\n",
    "    sd = X.std(0)\n",
    "    return (X - mean)/sd\n"
   ]
  },
  {
   "cell_type": "code",
   "execution_count": null,
   "id": "49003b24-136e-461a-8b3f-628921970d9a",
   "metadata": {},
   "outputs": [],
   "source": []
  },
  {
   "cell_type": "code",
   "execution_count": 21,
   "id": "898a3108-dac2-4603-a415-07c0d959a7ed",
   "metadata": {},
   "outputs": [],
   "source": [
    "class Perceptron:\n",
    "    def fit(self, X, y, lr = 0.001, standardize = True, add_intercept = True, iter=1000):\n",
    "        # y_hat = X @ B\n",
    "        # if yhat != y then b += lr * ynxn\n",
    "\n",
    "        if standardize:\n",
    "            X = standard_scaler(X)\n",
    "        if add_intercept:\n",
    "            ones = np.ones(len(X)).reshape(-1,1)\n",
    "            X = np.concatenate((ones, X), axis = 1)\n",
    "        self.X = X\n",
    "        self.y = y\n",
    "        self.N, self.D = self.X.shape\n",
    "        self.lr = lr\n",
    "        self.converged = False\n",
    "        self.iter = iter\n",
    "\n",
    "        # weights\n",
    "        self.B = np.random.randn(self.D)\n",
    "\n",
    "        for i in range(self.iter):\n",
    "            # used to chack convergence\n",
    "            y_hat = to_binary(sign(self.X @ self.B))\n",
    "\n",
    "            if np.all(y_hat == self.y):\n",
    "                self.converged = True\n",
    "                self.converged_iter_at = i\n",
    "                break\n",
    "            for n in range(self.N):\n",
    "                yhat = sign(self.X[n] @ self.B)\n",
    "\n",
    "                if yhat * self.y[n] == -1:\n",
    "                    # update weight\n",
    "                    self.B += self.lr * self.y[n]*self.X[n]\n",
    "            self.yhat = to_binary(sign(self.X @ self.B))\n",
    "            "
   ]
  },
  {
   "cell_type": "code",
   "execution_count": 22,
   "id": "d435be24-970b-4bba-894f-77c4b5d9ec95",
   "metadata": {},
   "outputs": [],
   "source": [
    "model = Perceptron()\n",
    "model.fit(X, y)"
   ]
  },
  {
   "cell_type": "code",
   "execution_count": 20,
   "id": "31aa6e1f-bf31-4039-9666-5e2b195b4048",
   "metadata": {},
   "outputs": [
    {
     "data": {
      "text/plain": [
       "0.9173989455184535"
      ]
     },
     "execution_count": 20,
     "metadata": {},
     "output_type": "execute_result"
    }
   ],
   "source": [
    "np.mean(model.yhat == y)"
   ]
  }
 ],
 "metadata": {
  "kernelspec": {
   "display_name": "Python 3 (ipykernel)",
   "language": "python",
   "name": "python3"
  },
  "language_info": {
   "codemirror_mode": {
    "name": "ipython",
    "version": 3
   },
   "file_extension": ".py",
   "mimetype": "text/x-python",
   "name": "python",
   "nbconvert_exporter": "python",
   "pygments_lexer": "ipython3",
   "version": "3.11.0"
  }
 },
 "nbformat": 4,
 "nbformat_minor": 5
}
