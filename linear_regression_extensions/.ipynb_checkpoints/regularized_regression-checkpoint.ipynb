{
 "cells": [
  {
   "cell_type": "code",
   "execution_count": 1,
   "id": "33de68b9-7fa8-413b-9327-99f824e867e7",
   "metadata": {},
   "outputs": [],
   "source": [
    "import numpy as np \n",
    "import matplotlib.pyplot as plt\n",
    "import seaborn as sns\n",
    "from sklearn import datasets"
   ]
  },
  {
   "cell_type": "code",
   "execution_count": 4,
   "id": "3efd24f0-8dca-4b1e-9122-eb6050254b18",
   "metadata": {},
   "outputs": [],
   "source": [
    "california = datasets.fetch_california_housing()\n",
    "X = california['data']\n",
    "y = california['target']"
   ]
  },
  {
   "cell_type": "code",
   "execution_count": 24,
   "id": "c35b37eb-cc4b-4e67-9dc9-313647305307",
   "metadata": {},
   "outputs": [],
   "source": [
    "# helper function\n",
    "def standard(x):\n",
    "    means = x.mean(0)\n",
    "    stds = x.std(0)\n",
    "    return (X - means)/ stds\n",
    "def sign(x, first_element_zero = False):\n",
    "    signs = (-1)**(x < 0)\n",
    "    if first_element_zero:\n",
    "        signs[0] = 0\n",
    "    return signs"
   ]
  },
  {
   "cell_type": "code",
   "execution_count": 54,
   "id": "deade03f-1f04-4008-b04a-6cdbac4bc988",
   "metadata": {},
   "outputs": [],
   "source": [
    "class Regularized_Regression:\n",
    "    def record_info(self, X, y, lam, intercept, standardize):\n",
    "        if standardize == True:\n",
    "            X = standard(X)\n",
    "        if intercept == False:\n",
    "            ones = np.ones(len(y)).reshape(len(y), 1)\n",
    "            X = np.concatenate((ones, X), axis = 1)\n",
    "        self.X = X\n",
    "        self.y = y\n",
    "        self.N, self.D = self.X.shape\n",
    "        self.lam = lam\n",
    "    def fit_ridge(self, X, y, lam = 0, intercept=False, standardize = True):\n",
    "        self.record_info(X, y, lam, intercept, standardize)\n",
    "        # I\n",
    "        self.I = np.eye(self.D)\n",
    "        self.I[0,0] = 0\n",
    "        # β^=(X⊤X+λI′)−1X⊤y.\n",
    "        self.weight = np.linalg.inv((self.X.T @ self.X)+(self.lam * self.I)) @ (self.X.T @ self.y)\n",
    "        \n",
    "        self.y_hat = self.X @ self.weight\n",
    "    def fit_lasso(self, X, y, lam = 0 , n_iters= 2000, lr= 0.0001, intercept=False, standardize = True):\n",
    "        self.record_info(X, y, lam, intercept, standardize)\n",
    "        # ∂L(β^)∂β^=−X⊤(y−Xβ^)+λI′ sign(β^).\n",
    "        \n",
    "        # estimate parameters (gradiant descent)\n",
    "        beta_hats = np.random.randn(self.D)\n",
    "        for i in range(n_iters):\n",
    "            dL_dbeta = ((-self.X.T) @ (self.y - (self.X @ beta_hats))) + self.lam*sign(beta_hats, True)\n",
    "            beta_hats -= lr*dL_dbeta \n",
    "        self.weight = beta_hats\n",
    "        \n",
    "        # get fitted values\n",
    "        self.y_hat = self.X @ self.weight\n",
    "        \n",
    "\n",
    "        "
   ]
  },
  {
   "cell_type": "code",
   "execution_count": 57,
   "id": "8d97cf1f-6826-4723-b37b-827a8ab7c91e",
   "metadata": {},
   "outputs": [
    {
     "data": {
      "text/plain": [
       "104.02934137986357"
      ]
     },
     "execution_count": 57,
     "metadata": {},
     "output_type": "execute_result"
    }
   ],
   "source": [
    "# set lambda\n",
    "lam = 10\n",
    "\n",
    "# fit ridge\n",
    "ridge_model = Regularized_Regression()\n",
    "ridge_model.fit_ridge(X, y, lam)\n",
    "\n",
    "np.linalg.norm(y - ridge_model.y_hat)"
   ]
  },
  {
   "cell_type": "code",
   "execution_count": 58,
   "id": "fe1ce738-ba42-41bd-a3e5-d3f1d70f96e9",
   "metadata": {},
   "outputs": [
    {
     "data": {
      "text/plain": [
       "104.03007488513757"
      ]
     },
     "execution_count": 58,
     "metadata": {},
     "output_type": "execute_result"
    }
   ],
   "source": [
    "# fit lasso\n",
    "lasso_model = Regularized_Regression()\n",
    "lasso_model.fit_lasso(X, y, lam, lr = 0.000001,n_iters = 30000)\n",
    "\n",
    "np.linalg.norm(y - lasso_model.y_hat)"
   ]
  }
 ],
 "metadata": {
  "kernelspec": {
   "display_name": "Python 3 (ipykernel)",
   "language": "python",
   "name": "python3"
  },
  "language_info": {
   "codemirror_mode": {
    "name": "ipython",
    "version": 3
   },
   "file_extension": ".py",
   "mimetype": "text/x-python",
   "name": "python",
   "nbconvert_exporter": "python",
   "pygments_lexer": "ipython3",
   "version": "3.11.0"
  }
 },
 "nbformat": 4,
 "nbformat_minor": 5
}
