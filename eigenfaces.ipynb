{
 "cells": [
  {
   "cell_type": "markdown",
   "metadata": {},
   "source": [
    "# EigenFaces"
   ]
  },
  {
   "cell_type": "markdown",
   "metadata": {},
   "source": [
    "## Step 1: Preprocessing the Images"
   ]
  },
  {
   "cell_type": "markdown",
   "metadata": {},
   "source": [
    "### Load the images"
   ]
  },
  {
   "cell_type": "code",
   "execution_count": null,
   "metadata": {},
   "outputs": [],
   "source": [
    "import bz2\n",
    "import cv2\n",
    "import os\n",
    "import numpy as np\n",
    "import matplotlib.pyplot as plt\n",
    "from numpy import intp\n",
    "import random"
   ]
  },
  {
   "cell_type": "code",
   "execution_count": null,
   "metadata": {},
   "outputs": [],
   "source": [
    "directory = 'feret/'\n",
    "faces = {}\n",
    "num_of_faces_loaded = 20 #change this value to adjust the number of faces to be loaded\n",
    "\n",
    "for index, person_id in enumerate(os.listdir(directory)):\n",
    "    if index > num_of_faces_loaded:\n",
    "        break\n",
    "\n",
    "    person_path = os.path.join(directory, person_id)\n",
    "    \n",
    "    if os.path.isdir(person_path):\n",
    "        for image_id in os.listdir(person_path):\n",
    "            image_path = os.path.join(person_path, image_id)\n",
    "\n",
    "            if image_path.endswith(\".ppm.bz2\"):\n",
    "                with bz2.BZ2File(image_path, 'rb') as f:\n",
    "                    content = f.read()\n",
    "                image = cv2.imdecode(np.frombuffer(content, np.uint8), cv2.IMREAD_GRAYSCALE)\n",
    "\n",
    "                file_path = \"/\".join(image_path.split(\"/\")[1:])\n",
    "                faces[file_path] = image"
   ]
  },
  {
   "cell_type": "markdown",
   "metadata": {},
   "source": [
    "### Let's see some of them"
   ]
  },
  {
   "cell_type": "code",
   "execution_count": null,
   "metadata": {},
   "outputs": [],
   "source": [
    "fig, axes = plt.subplots(4,4,sharex=True,sharey=True,figsize=(8,10))\n",
    "faceimages = list(faces.values())[-16:]\n",
    "lbls = list(faces.keys())[-16:]\n",
    "for i in range(16):\n",
    "    axes[i%4][i//4].set_title(lbls[i].split(\"/\")[0])\n",
    "    axes[i%4][i//4].imshow(faceimages[i], cmap=\"gray\")\n",
    "print(\"Showing sample faces\")\n",
    "plt.show()"
   ]
  },
  {
   "cell_type": "markdown",
   "metadata": {},
   "source": [
    "### Some details about the data"
   ]
  },
  {
   "cell_type": "code",
   "execution_count": null,
   "metadata": {},
   "outputs": [],
   "source": [
    "faceshape = list(faces.values())[0].shape\n",
    "print(\"Face image shape:\", faceshape)\n",
    "classes = set(filename.split(\"/\")[0] for filename in faces.keys())\n",
    "print(\"Number of classes:\", len(classes))\n",
    "print(\"Number of images:\", len(faces))"
   ]
  },
  {
   "cell_type": "markdown",
   "metadata": {},
   "source": [
    "### Split the data into training and test data"
   ]
  },
  {
   "cell_type": "code",
   "execution_count": null,
   "metadata": {},
   "outputs": [],
   "source": [
    "from sklearn.model_selection import train_test_split"
   ]
  },
  {
   "cell_type": "code",
   "execution_count": null,
   "metadata": {},
   "outputs": [],
   "source": [
    "facematrix = []\n",
    "facelabel = []\n",
    "for key,val in faces.items():\n",
    "    facematrix.append(val.flatten())\n",
    "    facelabel.append(key.split(\"/\")[0])\n",
    "\n",
    "facematrix = np.array(facematrix)\n",
    "facelabel = np.array(facelabel)"
   ]
  },
  {
   "cell_type": "code",
   "execution_count": null,
   "metadata": {},
   "outputs": [],
   "source": [
    "Xtr, Xts, ytr, yts = train_test_split(facematrix, facelabel, test_size=0.25, stratify = facelabel)"
   ]
  },
  {
   "cell_type": "markdown",
   "metadata": {},
   "source": [
    "# Step 2: Training"
   ]
  },
  {
   "cell_type": "markdown",
   "metadata": {},
   "source": [
    "### Apply PCA and take first K principal components as eigenfaces"
   ]
  },
  {
   "cell_type": "code",
   "execution_count": null,
   "metadata": {},
   "outputs": [],
   "source": [
    "from sklearn.decomposition import PCA"
   ]
  },
  {
   "cell_type": "code",
   "execution_count": null,
   "metadata": {},
   "outputs": [],
   "source": [
    "pca = PCA().fit(Xtr)"
   ]
  },
  {
   "cell_type": "code",
   "execution_count": null,
   "metadata": {},
   "outputs": [],
   "source": [
    "n_components = len(Xtr)\n",
    "eigenfaces = pca.components_[:n_components]"
   ]
  },
  {
   "cell_type": "markdown",
   "metadata": {},
   "source": [
    "### Let's see some of the eigenfaces"
   ]
  },
  {
   "cell_type": "code",
   "execution_count": null,
   "metadata": {},
   "outputs": [],
   "source": [
    "fig, axes = plt.subplots(4,4,sharex=True,sharey=True,figsize=(8,10))\n",
    "for i in range(16):\n",
    "    axes[i%4][i//4].imshow(eigenfaces[i].reshape(faceshape), cmap=\"gray\")\n",
    "    axes[i%4][i//4].set_title(ytr[i])\n",
    "print(\"Showing the eigenfaces\")\n",
    "plt.show()"
   ]
  },
  {
   "cell_type": "markdown",
   "metadata": {},
   "source": [
    "### Generate weights as a KxN matrix where K is the number of eigenfaces and N the number of samples"
   ]
  },
  {
   "cell_type": "code",
   "execution_count": null,
   "metadata": {},
   "outputs": [],
   "source": [
    "weights = eigenfaces @ (Xtr - pca.mean_).T\n",
    "print(\"Shape of the weight matrix:\", weights.shape)"
   ]
  },
  {
   "cell_type": "markdown",
   "metadata": {},
   "source": [
    "### Compute the threshold"
   ]
  },
  {
   "cell_type": "code",
   "execution_count": null,
   "metadata": {},
   "outputs": [],
   "source": [
    "def compute_threshold(ytr, Xts, yts, weights, eigenfaces, mean_face):\n",
    "    distances = []\n",
    "\n",
    "    for i in range(len(Xts)):\n",
    "        test_image = Xts[i].reshape(1, -1)\n",
    "        test_weight = eigenfaces @ (test_image - mean_face).T\n",
    "        euclidean_distance = np.linalg.norm(weights - test_weight, axis=0)\n",
    "        best_match = np.argmin(euclidean_distance)\n",
    "\n",
    "\n",
    "        if yts[i] == ytr[best_match]:\n",
    "            distances.append(euclidean_distance[best_match])\n",
    "\n",
    "        return max(distances)"
   ]
  },
  {
   "cell_type": "markdown",
   "metadata": {},
   "source": [
    "# Step 3: Test"
   ]
  },
  {
   "cell_type": "code",
   "execution_count": null,
   "metadata": {},
   "outputs": [],
   "source": [
    "def eigenface_predict(test_image, eigenfaces, weights, mean_face, threshold):\n",
    "    test_weight = eigenfaces @ (test_image - mean_face).T\n",
    "    euclidean_distance = np.linalg.norm(weights - test_weight, axis=0)\n",
    "    best_match = np.argmin(euclidean_distance)\n",
    "\n",
    "\n",
    "    reconstructed_face = pca.mean_ + (test_weight.T @ eigenfaces)\n",
    "    reconstruction_error = np.linalg.norm(test_image - reconstructed_face)\n",
    "\n",
    "    text = \"Match found!\"\n",
    "\n",
    "    if reconstruction_error > threshold:\n",
    "        text = \"Not a face\"\n",
    "    elif euclidean_distance[best_match] > threshold:\n",
    "        text = \"Unknown face\"\n",
    "\n",
    "    return [text, best_match, euclidean_distance[best_match]]"
   ]
  },
  {
   "cell_type": "code",
   "execution_count": null,
   "metadata": {},
   "outputs": [],
   "source": [
    "def check_accuracy(y_true, y_pred):\n",
    "    if len(y_true) != len(y_pred):\n",
    "        raise ValueError(\"Input lists must have the same length.\")\n",
    "\n",
    "    correct = 0\n",
    "    total = len(y_true)\n",
    "\n",
    "    for true_label, predicted_label in zip(y_true, y_pred):\n",
    "        if true_label == predicted_label:\n",
    "            correct += 1\n",
    "\n",
    "    accuracy = (correct / total) * 100\n",
    "    return accuracy, correct"
   ]
  },
  {
   "cell_type": "markdown",
   "metadata": {},
   "source": [
    "### Test the algorithm using images from the training set"
   ]
  },
  {
   "cell_type": "code",
   "execution_count": null,
   "metadata": {},
   "outputs": [],
   "source": [
    "threshold = compute_threshold(ytr, Xts, yts, weights, eigenfaces, pca.mean_)\n",
    "print(f\"Optimum threshold: {threshold}\")"
   ]
  },
  {
   "cell_type": "code",
   "execution_count": null,
   "metadata": {},
   "outputs": [],
   "source": [
    "num_of_test = 10\n",
    "for i in range(num_of_test):\n",
    "    num = random.randint(0, len(Xts) - 1)\n",
    "    test_image = Xts[num].reshape(1, -1)\n",
    "\n",
    "    text, best_match, euclidean_distance = eigenface_predict(test_image, eigenfaces, weights, pca.mean_, threshold)\n",
    "\n",
    "    fig, axes = plt.subplots(1, 2, sharex=True, sharey=True, figsize=(8, 6))\n",
    "    axes[0].imshow(test_image.reshape(faceshape), cmap=\"gray\")\n",
    "    axes[0].set_title(f\"Test Image\")\n",
    "\n",
    "    print(f\"Test Image {i}: {text}\\nBest Match: {ytr[best_match]} with Euclidean distance {euclidean_distance}\")\n",
    "    axes[1].imshow(Xtr[best_match].reshape(faceshape), cmap=\"gray\")\n",
    "    axes[1].set_title(f\"{text}\\nBest match - {ytr[best_match]}\")\n",
    "        \n",
    "\n",
    "    plt.show()\n"
   ]
  },
  {
   "cell_type": "markdown",
   "metadata": {},
   "source": [
    "### Check the Accuracy"
   ]
  },
  {
   "cell_type": "code",
   "execution_count": null,
   "metadata": {},
   "outputs": [],
   "source": [
    "predictions = []\n",
    "\n",
    "for i in range(len(Xts)):\n",
    "    test_image = Xts[i].reshape(1, -1)\n",
    "\n",
    "    text, best_match, euclidean_distance = eigenface_predict(test_image, eigenfaces, weights, pca.mean_, threshold)\n",
    "    predictions.append(ytr[best_match])"
   ]
  },
  {
   "cell_type": "code",
   "execution_count": null,
   "metadata": {},
   "outputs": [],
   "source": [
    "accuracy, correct = check_accuracy(yts, predictions)"
   ]
  },
  {
   "cell_type": "code",
   "execution_count": null,
   "metadata": {},
   "outputs": [],
   "source": [
    "print(f\"Accuracy: {accuracy}\")\n",
    "print(f\"{correct} guesses out of {len(Xts)}\")"
   ]
  }
 ],
 "metadata": {
  "kernelspec": {
   "display_name": "Python 3",
   "language": "python",
   "name": "python3"
  },
  "language_info": {
   "codemirror_mode": {
    "name": "ipython",
    "version": 3
   },
   "file_extension": ".py",
   "mimetype": "text/x-python",
   "name": "python",
   "nbconvert_exporter": "python",
   "pygments_lexer": "ipython3",
   "version": "3.10.12"
  }
 },
 "nbformat": 4,
 "nbformat_minor": 2
}
