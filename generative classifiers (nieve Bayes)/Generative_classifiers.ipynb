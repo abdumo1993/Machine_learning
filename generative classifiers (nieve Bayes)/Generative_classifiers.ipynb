{
 "cells": [
  {
   "cell_type": "code",
   "execution_count": 1,
   "id": "4ecea651-3d2b-493f-9571-17c353737eac",
   "metadata": {},
   "outputs": [],
   "source": [
    "# Generative classifiers in LDA, QDA and Naive Bayes"
   ]
  },
  {
   "cell_type": "code",
   "execution_count": 28,
   "id": "1c2dc1d4-7437-4f96-9d2b-39aa32d5cdde",
   "metadata": {},
   "outputs": [],
   "source": [
    "import numpy as np \n",
    "import matplotlib.pyplot as plt\n",
    "import seaborn as sns\n",
    "from sklearn import datasets\n",
    "from sklearn.model_selection import train_test_split\n",
    "\n",
    "wine = datasets.load_wine()\n",
    "X, y = wine.data, wine.target\n",
    "X_train, X_test, y_train, y_test = train_test_split(X, y, test_size=0.2, random_state=42)\n"
   ]
  },
  {
   "cell_type": "code",
   "execution_count": 35,
   "id": "0fe9607d-4227-422f-a308-d808680f4d9a",
   "metadata": {},
   "outputs": [
    {
     "data": {
      "text/plain": [
       "array([[[0., 0.],\n",
       "        [0., 0.]],\n",
       "\n",
       "       [[0., 0.],\n",
       "        [0., 0.]],\n",
       "\n",
       "       [[0., 0.],\n",
       "        [0., 0.]]])"
      ]
     },
     "execution_count": 35,
     "metadata": {},
     "output_type": "execute_result"
    }
   ],
   "source": [
    "a = np.zeros((3 , 2 , 2))\n",
    "a"
   ]
  },
  {
   "cell_type": "code",
   "execution_count": 36,
   "id": "b31ec7db-76a0-4500-9cb2-9273481bce62",
   "metadata": {},
   "outputs": [],
   "source": [
    "class LDA:\n",
    "    def fit(self, X, y):\n",
    "        self.X = X\n",
    "        self.y = y\n",
    "        self.N, self.D = self.X.shape\n",
    "        self.classes, self.counts = np.unique(y, return_counts = True)\n",
    "\n",
    "        # priors\n",
    "        self.priors = self.counts/self.N\n",
    "        ## Get mu for each class and overall Sigma\n",
    "        self.mu_ks = []\n",
    "        self.Sigma = np.zeros((self.D, self.D))        \n",
    "        for i, k in enumerate(self.classes):\n",
    "            \n",
    "            X_k = self.X[self.y == k]\n",
    "            mu_k = X_k.mean(0).reshape(self.D, 1)\n",
    "            self.mu_ks.append(mu_k)\n",
    "\n",
    "            for x_n in X_k:\n",
    "                x_n = x_n.reshape(-1,1)\n",
    "                x_n_minus_mu_k = (x_n - mu_k)\n",
    "                self.Sigma += np.dot(x_n_minus_mu_k, x_n_minus_mu_k.T)\n",
    "            \n",
    "        self.Sigma /= self.N\n",
    "        \n",
    "    def _mvn_density(self, x_n, mu_k, Sigma):\n",
    "        x_n_minus_mu_k = (x_n - mu_k)\n",
    "        density = np.exp(-(1/2)*x_n_minus_mu_k.T @ np.linalg.inv(Sigma) @ x_n_minus_mu_k)\n",
    "        return density\n",
    "        \n",
    "\n",
    "\n",
    "        \n",
    "    def classify(self, X_test):\n",
    "        # X_test is a matrix \n",
    "        y_n = []\n",
    "        for i, x_n in enumerate(X_test):\n",
    "            x_n = x_n.reshape(-1,1)\n",
    "            pks = np.zeros(len(self.classes))\n",
    "\n",
    "            for j, k in enumerate(self.classes):\n",
    "                px_given_y = self._mvn_density(x_n, self.mu_ks[j], self.Sigma)\n",
    "                py_prior = self.priors[j]\n",
    "                py_given_x = px_given_y * py_prior\n",
    "                pks[j] = py_given_x\n",
    "            y_n.append(self.classes[np.argmax(pks)])\n",
    "        return y_n\n",
    "            \n",
    "\n",
    "        "
   ]
  },
  {
   "cell_type": "code",
   "execution_count": 72,
   "id": "7e6d47a4-e58c-417a-bc91-03beb7db2649",
   "metadata": {},
   "outputs": [
    {
     "data": {
      "text/plain": [
       "1.0"
      ]
     },
     "execution_count": 72,
     "metadata": {},
     "output_type": "execute_result"
    }
   ],
   "source": [
    "lda = LDA()\n",
    "lda.fit(X, y)\n",
    "yhat = lda.classify(X)\n",
    "np.mean(yhat == y)\n"
   ]
  },
  {
   "cell_type": "code",
   "execution_count": 47,
   "id": "6957d212-faaf-4ebb-8176-35ab7d3a4621",
   "metadata": {},
   "outputs": [],
   "source": [
    "class QDA:\n",
    "    def fit(self, X, y):\n",
    "        self.X = X\n",
    "        self.y = y\n",
    "        self.N, self.D = self.X.shape\n",
    "        self.classes, self.counts = np.unique(self.y, return_counts = True)\n",
    "\n",
    "        # priors\n",
    "        self.priors = self.counts/self.N\n",
    "\n",
    "        # muks and sigmaks\n",
    "        self.mu_ks = []\n",
    "        self.Sigma_ks = np.zeros((len(self.classes), self.D, self.D))\n",
    "        for i, k in enumerate(self.classes):\n",
    "            X_k = self.X[self.y == k]\n",
    "            mu_k = X_k.mean(0).reshape(self.D, 1)\n",
    "            self.mu_ks.append(mu_k)\n",
    "            sigma_k = np.zeros((self.D, self.D))\n",
    "\n",
    "            # loop over each data in class k\n",
    "            for j, x_n in enumerate(X_k):\n",
    "                # calculate sigma k\n",
    "                x_n = x_n.reshape(-1, 1)\n",
    "                xn_minus_muk = x_n - mu_k\n",
    "                sigma_k += xn_minus_muk @ xn_minus_muk.T\n",
    "            sigma_k /= self.counts[i]\n",
    "            self.Sigma_ks[i] = sigma_k\n",
    "    def _mvn_density(self, x_n, Sigma_k, mu_k):\n",
    "        xn_minus_muk = x_n - mu_k\n",
    "        density = np.linalg.det(Sigma_k) ** (-.5) * np.exp( -.5 * (xn_minus_muk.T @ np.linalg.inv(Sigma_k) @ xn_minus_muk) )\n",
    "        return density\n",
    "    def classify(self, X_test):\n",
    "        y_n = []\n",
    "        for i, x_n in enumerate(X_test):\n",
    "            x_n = x_n.reshape(-1,1)\n",
    "            pks = np.zeros(len(self.classes))\n",
    "\n",
    "            for j, k in enumerate(self.classes):\n",
    "                px_given_y = self._mvn_density(x_n, self.Sigma_ks[j], self.mu_ks[j])\n",
    "                prior_k = self.priors[j]\n",
    "                py_given_x = prior_k * px_given_y\n",
    "                pks[j] = py_given_x\n",
    "            y_n.append(self.classes[np.argmax(pks)])\n",
    "        return y_n"
   ]
  },
  {
   "cell_type": "code",
   "execution_count": 71,
   "id": "1bfed0ba-3cee-47a9-8b10-94654bdb8212",
   "metadata": {},
   "outputs": [
    {
     "data": {
      "text/plain": [
       "0.9943820224719101"
      ]
     },
     "execution_count": 71,
     "metadata": {},
     "output_type": "execute_result"
    }
   ],
   "source": [
    "qda = QDA()\n",
    "qda.fit(X, y)\n",
    "yhat = qda.classify(X)\n",
    "np.mean(yhat == y)"
   ]
  },
  {
   "cell_type": "code",
   "execution_count": 64,
   "id": "8fd0e296-2551-46ec-bc50-0f52448a2256",
   "metadata": {},
   "outputs": [],
   "source": [
    "class NaiveBayes:\n",
    "    def _estimate_parameters(self, X_k):\n",
    "        class_parameters = []\n",
    "        # each \n",
    "        for d in range(self.D):\n",
    "            x_kd = X_k[:,d]\n",
    "            if self.distributions[d] == 'normal':\n",
    "                mu_d = x_kd.mean()\n",
    "                std2 = np.var(x_kd)\n",
    "                class_parameters.append([mu_d, std2])\n",
    "            elif self.distributions[d] == 'bernoulli':\n",
    "                # pk\n",
    "                p = x_kd.mean()\n",
    "                class_parameters.append(p)\n",
    "            elif self.distributions[d] == 'poisson':\n",
    "                lam = np.mean(x_kd)\n",
    "                class_parameters.append(lam) \n",
    "        return class_parameters\n",
    "\n",
    "   \n",
    "    def fit(self, X, y, distributions = None):\n",
    "        self.X, self.y = X, y\n",
    "        self.N, self.D = self.X.shape\n",
    "        self.classes, self.counts = np.unique(self.y, return_counts = True)\n",
    "        if distributions is None:\n",
    "            distributions = ['normal' for i in range(len(y))] \n",
    "            # may be wrong to use y instead of self.D in range(len(y)), \n",
    "            # to be checked out \n",
    "        self.distributions = distributions\n",
    "        self.priors = self.counts/self.N\n",
    "\n",
    "        self.parameters = []\n",
    "        for i, k in enumerate(self.classes):\n",
    "            X_k = self.X[y == k]\n",
    "            self.parameters.append(self._estimate_parameters(X_k)) \n",
    "            \n",
    "        \n",
    "        \n",
    "    def _get_probabilities(self, x_n, cls):\n",
    "        class_parameters = self.parameters[cls]\n",
    "        class_probability = 1\n",
    "        for i in range(self.D):\n",
    "            x_nd = x_n[i]\n",
    "            if self.distributions[i] == 'normal':\n",
    "                mu, var = class_parameters[i]\n",
    "                class_probability *= (var)**(-.5) * np.exp( -(x_nd - mu)**2/var )\n",
    "            elif self.distributions[i] == 'bernoulli':\n",
    "                p = class_parameters[i]\n",
    "                class_probability *= (p**x_nd)*(1-p)**(1-x_nd)\n",
    "            elif self.distributions[i] == 'poisson':\n",
    "                lam = class_parameters[i]\n",
    "                class_probability *= np.exp(-lam)*lam**x_nd\n",
    "        return class_probability\n",
    "        \n",
    "    def classify(self, X_test):\n",
    "        \n",
    "        y_n = []\n",
    "        for i, x_n in enumerate(X_test):\n",
    "            x_n = x_n.reshape(-1,1)\n",
    "            pks = np.zeros(len(self.classes))\n",
    "\n",
    "            for j, k in enumerate(self.classes):\n",
    "                px_given_y = self._get_probabilities(x_n, k)\n",
    "                prior_k = self.priors[j]\n",
    "                py_given_x = prior_k * px_given_y\n",
    "                pks[j] = py_given_x\n",
    "            y_n.append(self.classes[np.argmax(pks)])\n",
    "        return y_n"
   ]
  },
  {
   "cell_type": "code",
   "execution_count": 65,
   "id": "2df5e908-77e9-4baf-98af-424cd6e967bc",
   "metadata": {},
   "outputs": [
    {
     "data": {
      "text/plain": [
       "0.9775280898876404"
      ]
     },
     "execution_count": 65,
     "metadata": {},
     "output_type": "execute_result"
    }
   ],
   "source": [
    "nb = NaiveBayes()\n",
    "nb.fit(X, y)\n",
    "yhat = nb.classify(X)\n",
    "np.mean(yhat == y)"
   ]
  },
  {
   "cell_type": "markdown",
   "id": "43093e44-99b8-4493-a033-b9936cd21971",
   "metadata": {},
   "source": [
    "**Implementation** "
   ]
  },
  {
   "cell_type": "code",
   "execution_count": 66,
   "id": "ec990039-2613-43aa-9d08-6a5e467be4ec",
   "metadata": {},
   "outputs": [],
   "source": [
    "from sklearn.discriminant_analysis import LinearDiscriminantAnalysis, QuadraticDiscriminantAnalysis\n",
    "from sklearn.naive_bayes import GaussianNB\n",
    "\n",
    "lda = LinearDiscriminantAnalysis()\n",
    "lda.fit(X, y);\n",
    "\n",
    "qda = QuadraticDiscriminantAnalysis()\n",
    "qda.fit(X, y);\n",
    "\n",
    "nb = GaussianNB()\n",
    "nb.fit(X, y);"
   ]
  },
  {
   "cell_type": "code",
   "execution_count": 68,
   "id": "3edf7705-d36a-449c-8072-ab8a67f5e7fa",
   "metadata": {},
   "outputs": [
    {
     "data": {
      "text/plain": [
       "0.9887640449438202"
      ]
     },
     "execution_count": 68,
     "metadata": {},
     "output_type": "execute_result"
    }
   ],
   "source": [
    "np.mean(nb.predict(X) == y)"
   ]
  },
  {
   "cell_type": "code",
   "execution_count": 69,
   "id": "994aecf6-7e44-453e-b5e4-39104e11a041",
   "metadata": {},
   "outputs": [
    {
     "data": {
      "text/plain": [
       "0.9943820224719101"
      ]
     },
     "execution_count": 69,
     "metadata": {},
     "output_type": "execute_result"
    }
   ],
   "source": [
    "np.mean(qda.predict(X) == y)\n"
   ]
  },
  {
   "cell_type": "code",
   "execution_count": 70,
   "id": "33dde8cd-bfa6-499e-ba07-453472856e29",
   "metadata": {},
   "outputs": [
    {
     "data": {
      "text/plain": [
       "1.0"
      ]
     },
     "execution_count": 70,
     "metadata": {},
     "output_type": "execute_result"
    }
   ],
   "source": [
    "np.mean(lda.predict(X) == y)"
   ]
  }
 ],
 "metadata": {
  "kernelspec": {
   "display_name": "Python 3 (ipykernel)",
   "language": "python",
   "name": "python3"
  },
  "language_info": {
   "codemirror_mode": {
    "name": "ipython",
    "version": 3
   },
   "file_extension": ".py",
   "mimetype": "text/x-python",
   "name": "python",
   "nbconvert_exporter": "python",
   "pygments_lexer": "ipython3",
   "version": "3.11.0"
  }
 },
 "nbformat": 4,
 "nbformat_minor": 5
}
